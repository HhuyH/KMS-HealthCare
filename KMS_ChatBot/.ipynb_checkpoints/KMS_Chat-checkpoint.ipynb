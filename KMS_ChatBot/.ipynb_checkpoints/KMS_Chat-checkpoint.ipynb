{
 "cells": [
  {
   "cell_type": "code",
   "execution_count": 1,
   "id": "a6c40d3e",
   "metadata": {},
   "outputs": [],
   "source": [
    "from fastapi import FastAPI\n",
    "from pydantic import BaseModel\n",
    "\n",
    "app = FastAPI()\n",
    "\n",
    "class Message(BaseModel):\n",
    "    message: str\n",
    "\n",
    "@app.post(\"/chat\")\n",
    "async def chat(msg: Message):\n",
    "    return {\"reply\": \"Bạn vừa nói: \" + msg.message}\n"
   ]
  },
  {
   "cell_type": "code",
   "execution_count": null,
   "id": "80e10883-a353-4c78-bc41-fb6be00c1a7a",
   "metadata": {},
   "outputs": [],
   "source": []
  }
 ],
 "metadata": {
  "kernelspec": {
   "display_name": "Python 3 (ipykernel)",
   "language": "python",
   "name": "python3"
  },
  "language_info": {
   "codemirror_mode": {
    "name": "ipython",
    "version": 3
   },
   "file_extension": ".py",
   "mimetype": "text/x-python",
   "name": "python",
   "nbconvert_exporter": "python",
   "pygments_lexer": "ipython3",
   "version": "3.11.12"
  }
 },
 "nbformat": 4,
 "nbformat_minor": 5
}
